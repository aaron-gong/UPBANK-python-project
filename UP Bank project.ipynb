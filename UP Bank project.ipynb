{
 "cells": [
  {
   "cell_type": "markdown",
   "id": "a25fe137",
   "metadata": {},
   "source": [
    "# Using UP bank's API to pull transactional data for spending analysis."
   ]
  },
  {
   "cell_type": "code",
   "execution_count": 1,
   "id": "4628e076",
   "metadata": {},
   "outputs": [],
   "source": [
    "#Importing necessary libraries. \n",
    "import pandas as pd\n",
    "import numpy as np\n",
    "import matplotlib as plt\n",
    "import requests\n",
    "%matplotlib inline"
   ]
  },
  {
   "cell_type": "markdown",
   "id": "6860c8a5",
   "metadata": {},
   "source": [
    "### Hitting UP bank's API using my authorization token. "
   ]
  },
  {
   "cell_type": "code",
   "execution_count": 4,
   "id": "37a86d52",
   "metadata": {},
   "outputs": [],
   "source": [
    "baseurl = \"https://api.up.com.au/api/v1\"\n",
    "endpoint = \"/transactions\"\n",
    "header = {\"Authorization\" : \"Bearer up:yeah:KqHLbQfWLZPDeJIHDQpQUir3kCUpq8U8YMVGJeWW1K94UvHuQggTuhLQ1gbL3ILle33sA3DIrZ82grdIaK3BAWT2aQRyQaGoty8JzRWXOPSsMHGoWCVx8le59pwwKZRw\"}"
   ]
  },
  {
   "cell_type": "code",
   "execution_count": 5,
   "id": "9e06d9e7",
   "metadata": {},
   "outputs": [],
   "source": [
    "# obtaining transaction list, r from API.\n",
    "r = requests.get(baseurl+endpoint, headers = header, params= 'page[size]=100').json()"
   ]
  },
  {
   "cell_type": "code",
   "execution_count": 11,
   "id": "3b3abdc6",
   "metadata": {},
   "outputs": [],
   "source": [
    "#saving JSON\n",
    "import json\n",
    "with open(\"r.json\", \"w\", encoding = \"utf-8\") as f:\n",
    "          json.dump(r, f, ensure_ascii = False, indent = 4)"
   ]
  },
  {
   "cell_type": "markdown",
   "id": "d1d94a89",
   "metadata": {},
   "source": [
    "### Pulling out desired values from JSON"
   ]
  },
  {
   "cell_type": "code",
   "execution_count": 121,
   "id": "ef57b295",
   "metadata": {},
   "outputs": [],
   "source": [
    "trans_description = r[\"data\"][0][\"attributes\"][\"description\"]"
   ]
  },
  {
   "cell_type": "code",
   "execution_count": 122,
   "id": "d677bbd8",
   "metadata": {},
   "outputs": [],
   "source": [
    "amount = r[\"data\"][0][\"attributes\"][\"amount\"][\"value\"]"
   ]
  },
  {
   "cell_type": "code",
   "execution_count": 123,
   "id": "f9eb724a",
   "metadata": {},
   "outputs": [],
   "source": [
    "category = r[\"data\"][0][\"relationships\"][\"category\"][\"data\"][\"id\"]"
   ]
  },
  {
   "cell_type": "code",
   "execution_count": 124,
   "id": "6e830418",
   "metadata": {},
   "outputs": [],
   "source": [
    "date = r[\"data\"][0][\"attributes\"][\"createdAt\"]\n",
    "#converting string to datetime\n",
    "date=pd.Timestamp(date)\n"
   ]
  },
  {
   "cell_type": "markdown",
   "id": "e3460837",
   "metadata": {},
   "source": [
    "### Writing a FOR loop to pull the data that I want from the JSON, printing result to check values"
   ]
  },
  {
   "cell_type": "code",
   "execution_count": 132,
   "id": "29ddb29d",
   "metadata": {
    "collapsed": true
   },
   "outputs": [
    {
     "name": "stdout",
     "output_type": "stream",
     "text": [
      "Guzman y Gomez\n",
      "-15.50\n",
      "takeaway\n",
      "2022-08-08 14:47:29+10:00\n",
      "Woolworths Metro Carter St\n",
      "-11.54\n",
      "groceries\n",
      "2022-08-07 19:04:16+10:00\n",
      "EG\n",
      "-124.56\n",
      "fuel\n",
      "2022-07-30 19:16:20+10:00\n",
      "Kyo Sushi Bar\n",
      "-75.21\n",
      "takeaway\n",
      "2022-07-28 20:47:43+10:00\n",
      "Zambrero\n",
      "-15.90\n",
      "takeaway\n",
      "2022-07-26 12:33:20+10:00\n",
      "The Gozleme Co.\n",
      "-13.00\n",
      "restaurants-and-cafes\n",
      "2022-07-26 12:28:41+10:00\n",
      "Woolworths\n",
      "-10.60\n",
      "groceries\n",
      "2022-07-26 12:27:02+10:00\n",
      "Ampol\n",
      "-60.17\n",
      "fuel\n",
      "2022-07-24 23:41:02+10:00\n",
      "BP\n",
      "-111.76\n",
      "fuel\n",
      "2022-07-24 18:08:00+10:00\n",
      "Friday Flat Donut Hut\n",
      "-5.50\n",
      "takeaway\n",
      "2022-07-24 17:06:34+10:00\n",
      "The Local Pub\n",
      "-38.00\n",
      "restaurants-and-cafes\n",
      "2022-07-24 14:32:43+10:00\n",
      "Kosciuszko National Park\n",
      "-58.00\n",
      "holidays-and-travel\n",
      "2022-07-23 09:47:52+10:00\n",
      "BWS\n",
      "-86.00\n",
      "booze\n",
      "2022-07-21 20:17:07+10:00\n",
      "Guzman y Gomez\n",
      "-25.00\n",
      "takeaway\n",
      "2022-07-21 19:57:33+10:00\n",
      "UNIQLO\n",
      "-50.05\n",
      "clothing-and-accessories\n",
      "2022-07-21 19:49:35+10:00\n",
      "The Locker Room\n",
      "-9.00\n",
      "pubs-and-bars\n",
      "2022-07-17 14:23:08+10:00\n",
      "The Locker Room\n",
      "-50.00\n",
      "pubs-and-bars\n",
      "2022-07-17 14:18:33+10:00\n",
      "Woolworths\n",
      "-15.65\n",
      "groceries\n",
      "2022-07-16 15:22:11+10:00\n",
      "Frango Charcoal Chicken\n",
      "-50.00\n",
      "takeaway\n",
      "2022-07-15 20:32:31+10:00\n",
      "Moree Meats\n",
      "-23.94\n",
      "groceries\n",
      "2022-07-15 16:09:53+10:00\n",
      "Komart\n",
      "-18.63\n",
      "groceries\n",
      "2022-07-15 16:06:12+10:00\n",
      "Burwood Council\n",
      "-2.00\n",
      "parking\n",
      "2022-07-12 17:18:56+10:00\n",
      "BWS\n",
      "-104.80\n",
      "booze\n",
      "2022-07-08 18:34:03+10:00\n",
      "Woolworths\n",
      "-8.50\n",
      "groceries\n",
      "2022-07-08 18:24:01+10:00\n",
      "Newington Meat&Deli\n",
      "-114.39\n",
      "groceries\n",
      "2022-07-08 18:11:02+10:00\n",
      "McDonald's\n",
      "-19.10\n",
      "takeaway\n",
      "2022-07-07 22:16:05+10:00\n",
      "McDonald's\n",
      "-19.95\n",
      "takeaway\n",
      "2022-07-01 20:33:29+10:00\n",
      "Sergeant Lok\n",
      "-242.00\n",
      "restaurants-and-cafes\n",
      "2022-06-29 20:54:46+10:00\n",
      "City of Sydney Parking\n",
      "-8.80\n",
      "parking\n",
      "2022-06-29 18:56:43+10:00\n",
      "Woolworths\n",
      "-31.40\n",
      "groceries\n",
      "2022-06-29 15:00:23+10:00\n",
      "Lilong by Taste of Shanghai\n",
      "-84.23\n",
      "restaurants-and-cafes\n",
      "2022-06-27 19:12:44+10:00\n",
      "Orange Supermarket\n",
      "-103.88\n",
      "groceries\n",
      "2022-06-24 18:50:00+10:00\n",
      "Frango Charcoal Chicken\n",
      "-50.00\n",
      "takeaway\n",
      "2022-06-23 20:18:29+10:00\n",
      "Transport for NSW\n",
      "-7.73\n",
      "public-transport\n",
      "2022-06-19 04:45:11+10:00\n",
      "Amcal Pharmacy\n",
      "-10.99\n",
      "health-and-medical\n",
      "2022-06-18 13:09:34+10:00\n",
      "Transport for NSW\n",
      "-6.36\n",
      "public-transport\n",
      "2022-06-16 04:15:47+10:00\n",
      "Myeongdong Korean Restaurant\n",
      "-112.67\n",
      "restaurants-and-cafes\n",
      "2022-06-15 20:14:57+10:00\n",
      "El Jannah\n",
      "-29.90\n",
      "restaurants-and-cafes\n",
      "2022-06-14 19:34:58+10:00\n",
      "Transport for NSW\n",
      "-7.73\n",
      "public-transport\n",
      "2022-06-12 04:24:41+10:00\n",
      "Vinh Phat Chinese Seafood Restaurant\n",
      "-84.90\n",
      "restaurants-and-cafes\n",
      "2022-06-11 11:24:44+10:00\n",
      "ROBO\n",
      "-41.40\n",
      "restaurants-and-cafes\n",
      "2022-06-09 19:06:32+10:00\n",
      "JB Hi-Fi\n",
      "-79.00\n",
      "technology\n",
      "2022-06-08 16:47:12+10:00\n",
      "Strathfield Municipal Council\n",
      "-2.00\n",
      "parking\n",
      "2022-06-08 16:26:15+10:00\n",
      "Quell Massage & Recovery\n",
      "-152.91\n",
      "health-and-medical\n",
      "2022-06-08 12:01:59+10:00\n",
      "McDonald's\n",
      "-3.75\n",
      "takeaway\n",
      "2022-06-07 21:26:16+10:00\n",
      "La Lune Market\n",
      "-29.00\n",
      "restaurants-and-cafes\n",
      "2022-06-07 11:01:05+10:00\n",
      "Hong Kong Recipe\n",
      "-35.42\n",
      "restaurants-and-cafes\n",
      "2022-06-06 20:13:51+10:00\n",
      "Chatime\n",
      "-14.25\n",
      "takeaway\n",
      "2022-06-05 16:09:18+10:00\n",
      "August Coffee\n",
      "-5.00\n",
      "restaurants-and-cafes\n",
      "2022-06-04 13:40:47+10:00\n",
      "Coles\n",
      "-10.30\n",
      "groceries\n",
      "2022-06-03 19:28:35+10:00\n",
      "Chi Lin Restaurant\n",
      "-41.75\n",
      "restaurants-and-cafes\n",
      "2022-05-28 18:09:36+10:00\n",
      "Orange Supermarket\n",
      "-35.34\n",
      "groceries\n",
      "2022-05-28 17:53:06+10:00\n",
      "Auvers Cafe\n",
      "-47.47\n",
      "restaurants-and-cafes\n",
      "2022-05-28 14:38:37+10:00\n",
      "Transport for NSW\n",
      "-3.18\n",
      "public-transport\n",
      "2022-05-28 06:30:33+10:00\n",
      "Ho Jiak\n",
      "-40.64\n",
      "restaurants-and-cafes\n",
      "2022-05-25 21:50:04+10:00\n",
      "Transport for NSW\n",
      "-5.12\n",
      "public-transport\n",
      "2022-05-25 05:29:59+10:00\n",
      "Gong Cha\n",
      "-13.20\n",
      "restaurants-and-cafes\n",
      "2022-05-22 16:29:22+10:00\n",
      "Lush Food Bar\n",
      "-6.05\n",
      "restaurants-and-cafes\n",
      "2022-05-22 16:24:36+10:00\n",
      "Transport for NSW\n",
      "-8.41\n",
      "public-transport\n",
      "2022-05-22 05:43:42+10:00\n",
      "Hahn's Quality Meat\n",
      "-99.25\n",
      "groceries\n",
      "2022-05-21 14:39:11+10:00\n",
      "Arirang Hotdog Sydney\n",
      "-6.20\n",
      "takeaway\n",
      "2022-05-21 14:09:17+10:00\n",
      "Rocks Brewing Co\n",
      "-13.00\n",
      "pubs-and-bars\n",
      "2022-05-18 17:03:12+10:00\n",
      "CarePark\n",
      "-3.07\n",
      "parking\n",
      "2022-05-18 16:58:20+10:00\n",
      "McDonald's\n",
      "-9.25\n",
      "takeaway\n",
      "2022-05-18 08:33:24+10:00\n",
      "Ruby Lonesome\n",
      "-5.00\n",
      "restaurants-and-cafes\n",
      "2022-05-18 08:10:19+10:00\n",
      "Sharetea\n",
      "-13.95\n",
      "takeaway\n",
      "2022-05-17 18:44:44+10:00\n",
      "Transport for NSW\n",
      "-7.73\n",
      "public-transport\n",
      "2022-05-09 03:18:00+10:00\n",
      "McDonald's\n",
      "-17.95\n",
      "takeaway\n",
      "2022-05-07 22:42:43+10:00\n",
      "Fat Burger\n",
      "-26.98\n",
      "restaurants-and-cafes\n",
      "2022-05-07 19:45:33+10:00\n",
      "EG\n",
      "-136.73\n",
      "fuel\n",
      "2022-05-07 16:35:48+10:00\n",
      "Hot Star\n",
      "-10.50\n",
      "takeaway\n",
      "2022-05-06 23:04:37+10:00\n",
      "Transport for NSW\n",
      "-4.55\n",
      "public-transport\n",
      "2022-05-02 05:01:27+10:00\n",
      "Wallys Hot Dogs\n",
      "-5.00\n",
      "takeaway\n",
      "2022-04-30 18:13:49+10:00\n",
      "Madam Pho\n",
      "-46.00\n",
      "restaurants-and-cafes\n",
      "2022-04-30 13:29:14+10:00\n",
      "Coles\n",
      "-13.49\n",
      "groceries\n",
      "2022-04-27 19:46:48+10:00\n",
      "C9 Chocolate & Gelato Burwood\n",
      "-15.20\n",
      "takeaway\n",
      "2022-04-27 18:44:30+10:00\n",
      "Burwood Council\n",
      "-3.51\n",
      "parking\n",
      "2022-04-27 17:14:04+10:00\n",
      "Kowloon Cafe Burwood\n",
      "-42.02\n",
      "restaurants-and-cafes\n",
      "2022-04-24 15:31:55+10:00\n",
      "Zambrero\n",
      "-17.90\n",
      "takeaway\n",
      "2022-04-20 14:41:22+10:00\n",
      "Sushi Naya\n",
      "-7.30\n",
      "takeaway\n",
      "2022-04-20 14:36:27+10:00\n",
      "Woolworths\n",
      "-59.33\n",
      "groceries\n",
      "2022-04-20 14:28:00+10:00\n",
      "McDonald's\n",
      "-12.10\n",
      "takeaway\n",
      "2022-04-17 01:44:06+10:00\n",
      "Sanctuary Hotel\n",
      "-109.20\n",
      "restaurants-and-cafes\n",
      "2022-04-16 22:33:18+10:00\n",
      "Hot Star\n",
      "-17.00\n",
      "takeaway\n",
      "2022-04-16 21:58:18+10:00\n",
      "James Bakery\n",
      "-6.00\n",
      "groceries\n",
      "2022-04-16 13:36:06+10:00\n",
      "McDonald's\n",
      "-2.85\n",
      "takeaway\n",
      "2022-04-16 00:10:19+10:00\n",
      "Mr Stonebowl\n",
      "-81.60\n",
      "restaurants-and-cafes\n",
      "2022-04-14 19:04:52+10:00\n",
      "KFC\n",
      "-15.95\n",
      "takeaway\n",
      "2022-04-13 18:21:46+10:00\n",
      "El Jannah\n",
      "-37.40\n",
      "restaurants-and-cafes\n",
      "2022-04-11 21:18:41+10:00\n",
      "Transport for NSW\n",
      "-7.11\n",
      "public-transport\n",
      "2022-04-11 03:32:29+10:00\n",
      "Orange Supermarket\n",
      "-12.01\n",
      "groceries\n",
      "2022-04-09 16:36:17+10:00\n",
      "Coles\n",
      "-4.35\n",
      "groceries\n",
      "2022-04-09 16:22:08+10:00\n",
      "Orange Supermarket\n",
      "-119.38\n",
      "groceries\n",
      "2022-04-09 16:11:28+10:00\n",
      "McDonald's\n",
      "-10.25\n",
      "takeaway\n",
      "2022-04-05 21:23:27+10:00\n"
     ]
    }
   ],
   "source": [
    "for transaction in r[\"data\"]:\n",
    "    if transaction[\"relationships\"][\"category\"][\"data\"] != None:\n",
    "    \n",
    "        trans_description = transaction[\"attributes\"][\"description\"]\n",
    "        amount = transaction[\"attributes\"][\"amount\"][\"value\"]\n",
    "        category = transaction[\"relationships\"][\"category\"][\"data\"][\"id\"]\n",
    "        date = transaction[\"attributes\"][\"createdAt\"]\n",
    "        date = pd.Timestamp(date, tz = None, tzinfo = None)\n",
    "\n",
    "        print(trans_description)\n",
    "        print(amount)\n",
    "        print(category)\n",
    "        print(date)\n"
   ]
  },
  {
   "cell_type": "markdown",
   "id": "4afe5e66",
   "metadata": {},
   "source": [
    "### Writing a FOR loop to pull data into a DataFrame for analysis."
   ]
  },
  {
   "cell_type": "code",
   "execution_count": 151,
   "id": "7a2aaad6",
   "metadata": {},
   "outputs": [],
   "source": [
    "data = []\n",
    "for transaction in r[\"data\"]:\n",
    "    if transaction[\"relationships\"][\"category\"][\"data\"] != None:\n",
    "    \n",
    "        trans_description = transaction[\"attributes\"][\"description\"]\n",
    "        amount = transaction[\"attributes\"][\"amount\"][\"value\"]\n",
    "        category = transaction[\"relationships\"][\"category\"][\"data\"][\"id\"]\n",
    "        date = transaction[\"attributes\"][\"createdAt\"]\n",
    "        date = pd.Timestamp(date)\n",
    "        data.append((trans_description, \n",
    "                    amount,\n",
    "                    category,\n",
    "                    date))\n",
    "        \n",
    "df = pd.DataFrame(data = data, columns = [\"Description\", \"Amount\", \"Category\", \"Date\"])"
   ]
  },
  {
   "cell_type": "markdown",
   "id": "dcac32e0",
   "metadata": {},
   "source": [
    "### Saving data into CSV"
   ]
  },
  {
   "cell_type": "code",
   "execution_count": 127,
   "id": "fd0fb620",
   "metadata": {
    "scrolled": true
   },
   "outputs": [],
   "source": [
    "df.to_csv(\"upbank.csv\")"
   ]
  },
  {
   "cell_type": "markdown",
   "id": "145a454f",
   "metadata": {},
   "source": [
    "### Cleaning and formatting data"
   ]
  },
  {
   "cell_type": "code",
   "execution_count": 152,
   "id": "566d6764",
   "metadata": {},
   "outputs": [],
   "source": [
    "# changing \"Amount\" datatype from string to float for numeric calculations\n",
    "df[\"Amount\"] = df[\"Amount\"].astype(float)"
   ]
  },
  {
   "cell_type": "code",
   "execution_count": 153,
   "id": "a0ab0e68",
   "metadata": {},
   "outputs": [],
   "source": [
    "# removing the timezone from the timestamp for better readability\n",
    "df[\"Date\"] = df[\"Date\"].dt.tz_localize(None)"
   ]
  },
  {
   "cell_type": "code",
   "execution_count": 154,
   "id": "ff08aa35",
   "metadata": {
    "scrolled": true
   },
   "outputs": [],
   "source": [
    "# making the Date the index\n",
    "df = df.set_index(\"Date\")"
   ]
  },
  {
   "cell_type": "code",
   "execution_count": 155,
   "id": "26443e08",
   "metadata": {},
   "outputs": [],
   "source": [
    "# titled the \"category\" for consistent formatting\n",
    "df[\"Category\"] = df[\"Category\"].str.title()"
   ]
  },
  {
   "cell_type": "markdown",
   "id": "c6e5445e",
   "metadata": {},
   "source": [
    "### Working out how much was spent on eating out. "
   ]
  },
  {
   "cell_type": "code",
   "execution_count": 160,
   "id": "5c073f91",
   "metadata": {},
   "outputs": [],
   "source": [
    "mask1 = df[\"Category\"] == \"Takeaway\"\n",
    "mask2 = df[\"Category\"] == \"Restaurants-And-Cafes\""
   ]
  },
  {
   "cell_type": "code",
   "execution_count": 162,
   "id": "ee394beb",
   "metadata": {},
   "outputs": [],
   "source": [
    "df_food = df[mask1 | mask2]"
   ]
  },
  {
   "cell_type": "code",
   "execution_count": 167,
   "id": "fd431b23",
   "metadata": {},
   "outputs": [
    {
     "data": {
      "text/plain": [
       "-1668.3899999999999"
      ]
     },
     "execution_count": 167,
     "metadata": {},
     "output_type": "execute_result"
    }
   ],
   "source": [
    "df_food[\"Amount\"].sum()"
   ]
  },
  {
   "cell_type": "markdown",
   "id": "e018ab5f",
   "metadata": {},
   "source": [
    "### Analyzing how much was spent in each category"
   ]
  },
  {
   "cell_type": "code",
   "execution_count": 178,
   "id": "cebb581b",
   "metadata": {},
   "outputs": [
    {
     "data": {
      "text/plain": [
       "array(['Takeaway', 'Groceries', 'Fuel', 'Restaurants-And-Cafes',\n",
       "       'Holidays-And-Travel', 'Booze', 'Clothing-And-Accessories',\n",
       "       'Pubs-And-Bars', 'Parking', 'Public-Transport',\n",
       "       'Health-And-Medical', 'Technology'], dtype=object)"
      ]
     },
     "execution_count": 178,
     "metadata": {},
     "output_type": "execute_result"
    }
   ],
   "source": [
    "df[\"Category\"].unique()"
   ]
  },
  {
   "cell_type": "code",
   "execution_count": 222,
   "id": "f50021e3",
   "metadata": {},
   "outputs": [],
   "source": [
    "#summing amount spent by category\n",
    "amount_spent_by_category = df.groupby([\"Category\"]).sum()"
   ]
  },
  {
   "cell_type": "code",
   "execution_count": 223,
   "id": "7c2a9256",
   "metadata": {},
   "outputs": [
    {
     "data": {
      "text/html": [
       "<div>\n",
       "<style scoped>\n",
       "    .dataframe tbody tr th:only-of-type {\n",
       "        vertical-align: middle;\n",
       "    }\n",
       "\n",
       "    .dataframe tbody tr th {\n",
       "        vertical-align: top;\n",
       "    }\n",
       "\n",
       "    .dataframe thead th {\n",
       "        text-align: right;\n",
       "    }\n",
       "</style>\n",
       "<table border=\"1\" class=\"dataframe\">\n",
       "  <thead>\n",
       "    <tr style=\"text-align: right;\">\n",
       "      <th></th>\n",
       "      <th>Amount</th>\n",
       "    </tr>\n",
       "    <tr>\n",
       "      <th>Category</th>\n",
       "      <th></th>\n",
       "    </tr>\n",
       "  </thead>\n",
       "  <tbody>\n",
       "    <tr>\n",
       "      <th>Booze</th>\n",
       "      <td>190.80</td>\n",
       "    </tr>\n",
       "    <tr>\n",
       "      <th>Clothing-And-Accessories</th>\n",
       "      <td>50.05</td>\n",
       "    </tr>\n",
       "    <tr>\n",
       "      <th>Fuel</th>\n",
       "      <td>433.22</td>\n",
       "    </tr>\n",
       "    <tr>\n",
       "      <th>Groceries</th>\n",
       "      <td>697.98</td>\n",
       "    </tr>\n",
       "    <tr>\n",
       "      <th>Health-And-Medical</th>\n",
       "      <td>163.90</td>\n",
       "    </tr>\n",
       "    <tr>\n",
       "      <th>Holidays-And-Travel</th>\n",
       "      <td>58.00</td>\n",
       "    </tr>\n",
       "    <tr>\n",
       "      <th>Parking</th>\n",
       "      <td>19.38</td>\n",
       "    </tr>\n",
       "    <tr>\n",
       "      <th>Public-Transport</th>\n",
       "      <td>57.92</td>\n",
       "    </tr>\n",
       "    <tr>\n",
       "      <th>Pubs-And-Bars</th>\n",
       "      <td>72.00</td>\n",
       "    </tr>\n",
       "    <tr>\n",
       "      <th>Restaurants-And-Cafes</th>\n",
       "      <td>1212.83</td>\n",
       "    </tr>\n",
       "    <tr>\n",
       "      <th>Takeaway</th>\n",
       "      <td>455.56</td>\n",
       "    </tr>\n",
       "    <tr>\n",
       "      <th>Technology</th>\n",
       "      <td>79.00</td>\n",
       "    </tr>\n",
       "  </tbody>\n",
       "</table>\n",
       "</div>"
      ],
      "text/plain": [
       "                           Amount\n",
       "Category                         \n",
       "Booze                      190.80\n",
       "Clothing-And-Accessories    50.05\n",
       "Fuel                       433.22\n",
       "Groceries                  697.98\n",
       "Health-And-Medical         163.90\n",
       "Holidays-And-Travel         58.00\n",
       "Parking                     19.38\n",
       "Public-Transport            57.92\n",
       "Pubs-And-Bars               72.00\n",
       "Restaurants-And-Cafes     1212.83\n",
       "Takeaway                   455.56\n",
       "Technology                  79.00"
      ]
     },
     "execution_count": 223,
     "metadata": {},
     "output_type": "execute_result"
    }
   ],
   "source": [
    "### converting dollar amount spent to positive amount for better readability\n",
    "amount_spent_by_category[\"Amount\"] = amount_spent_by_category[\"Amount\"] * -1\n",
    "amount_spent_by_category"
   ]
  },
  {
   "cell_type": "markdown",
   "id": "55c43045",
   "metadata": {},
   "source": [
    "### Visualizing the data "
   ]
  },
  {
   "cell_type": "code",
   "execution_count": 212,
   "id": "8040a40d",
   "metadata": {},
   "outputs": [],
   "source": [
    "# decided to go with this particular style\n",
    "plt.style.use(\"fivethirtyeight\")"
   ]
  },
  {
   "cell_type": "code",
   "execution_count": 213,
   "id": "65155787",
   "metadata": {},
   "outputs": [
    {
     "data": {
      "text/plain": [
       "<AxesSubplot:ylabel='Category'>"
      ]
     },
     "execution_count": 213,
     "metadata": {},
     "output_type": "execute_result"
    },
    {
     "data": {
      "image/png": "[encoded data removed]",
      "text/plain": [
       "<Figure size 576x396 with 1 Axes>"
      ]
     },
     "metadata": {},
     "output_type": "display_data"
    }
   ],
   "source": [
    "# horizontal bars made the most sense for visualisation for readability.\n",
    "amount_spent_by_category.plot(y =\"Amount\", kind = \"barh\")"
   ]
  },
  {
   "cell_type": "code",
   "execution_count": 229,
   "id": "8d331d6b",
   "metadata": {},
   "outputs": [],
   "source": [
    "avg_amount_spent_per_transaction = df.groupby([\"Category\"]).mean()"
   ]
  },
  {
   "cell_type": "code",
   "execution_count": 234,
   "id": "d8af7e8a",
   "metadata": {},
   "outputs": [
    {
     "data": {
      "text/html": [
       "<div>\n",
       "<style scoped>\n",
       "    .dataframe tbody tr th:only-of-type {\n",
       "        vertical-align: middle;\n",
       "    }\n",
       "\n",
       "    .dataframe tbody tr th {\n",
       "        vertical-align: top;\n",
       "    }\n",
       "\n",
       "    .dataframe thead th {\n",
       "        text-align: right;\n",
       "    }\n",
       "</style>\n",
       "<table border=\"1\" class=\"dataframe\">\n",
       "  <thead>\n",
       "    <tr style=\"text-align: right;\">\n",
       "      <th></th>\n",
       "      <th>Amount</th>\n",
       "    </tr>\n",
       "    <tr>\n",
       "      <th>Category</th>\n",
       "      <th></th>\n",
       "    </tr>\n",
       "  </thead>\n",
       "  <tbody>\n",
       "    <tr>\n",
       "      <th>Booze</th>\n",
       "      <td>95.400000</td>\n",
       "    </tr>\n",
       "    <tr>\n",
       "      <th>Clothing-And-Accessories</th>\n",
       "      <td>50.050000</td>\n",
       "    </tr>\n",
       "    <tr>\n",
       "      <th>Fuel</th>\n",
       "      <td>108.305000</td>\n",
       "    </tr>\n",
       "    <tr>\n",
       "      <th>Groceries</th>\n",
       "      <td>38.776667</td>\n",
       "    </tr>\n",
       "    <tr>\n",
       "      <th>Health-And-Medical</th>\n",
       "      <td>81.950000</td>\n",
       "    </tr>\n",
       "    <tr>\n",
       "      <th>Holidays-And-Travel</th>\n",
       "      <td>58.000000</td>\n",
       "    </tr>\n",
       "    <tr>\n",
       "      <th>Parking</th>\n",
       "      <td>3.876000</td>\n",
       "    </tr>\n",
       "    <tr>\n",
       "      <th>Public-Transport</th>\n",
       "      <td>6.435556</td>\n",
       "    </tr>\n",
       "    <tr>\n",
       "      <th>Pubs-And-Bars</th>\n",
       "      <td>24.000000</td>\n",
       "    </tr>\n",
       "    <tr>\n",
       "      <th>Restaurants-And-Cafes</th>\n",
       "      <td>52.731739</td>\n",
       "    </tr>\n",
       "    <tr>\n",
       "      <th>Takeaway</th>\n",
       "      <td>18.222400</td>\n",
       "    </tr>\n",
       "    <tr>\n",
       "      <th>Technology</th>\n",
       "      <td>79.000000</td>\n",
       "    </tr>\n",
       "  </tbody>\n",
       "</table>\n",
       "</div>"
      ],
      "text/plain": [
       "                              Amount\n",
       "Category                            \n",
       "Booze                      95.400000\n",
       "Clothing-And-Accessories   50.050000\n",
       "Fuel                      108.305000\n",
       "Groceries                  38.776667\n",
       "Health-And-Medical         81.950000\n",
       "Holidays-And-Travel        58.000000\n",
       "Parking                     3.876000\n",
       "Public-Transport            6.435556\n",
       "Pubs-And-Bars              24.000000\n",
       "Restaurants-And-Cafes      52.731739\n",
       "Takeaway                   18.222400\n",
       "Technology                 79.000000"
      ]
     },
     "execution_count": 234,
     "metadata": {},
     "output_type": "execute_result"
    }
   ],
   "source": [
    "avg_amount_spent_per_transaction[\"Amount\"] = avg_amount_spent_per_transaction[\"Amount\"] *-1\n",
    "avg_amount_spent_per_transaction"
   ]
  },
  {
   "cell_type": "code",
   "execution_count": 235,
   "id": "e209e96d",
   "metadata": {},
   "outputs": [
    {
     "data": {
      "text/plain": [
       "<AxesSubplot:ylabel='Category'>"
      ]
     },
     "execution_count": 235,
     "metadata": {},
     "output_type": "execute_result"
    },
    {
     "data": {
      "image/png": "[encoded data removed]",
      "text/plain": [
       "<Figure size 576x396 with 1 Axes>"
      ]
     },
     "metadata": {},
     "output_type": "display_data"
    }
   ],
   "source": [
    "avg_amount_spent_per_transaction.plot(y = \"Amount\", kind = \"barh\")"
   ]
  },
  {
   "cell_type": "markdown",
   "id": "78bf354a",
   "metadata": {},
   "source": [
    "This has been a good look into my spending over the past few months. It is clear that a large portion of my spending goes towards restaurants and the like. It is also important to note that expenses such as bills and subscriptions are paid out of another bank account. The UP bank account is predominantly POS focused transactions. In the future I hope to centralize my spending so deeper analysis can be performed.\n",
    "\n",
    "Regardless it has been enjoyable playing around with APIs and JSONs, something which I had not done before. \n",
    "\n",
    "Thanks for reading!"
   ]
  }
 ],
 "metadata": {
  "kernelspec": {
   "display_name": "Python 3 (ipykernel)",
   "language": "python",
   "name": "python3"
  },
  "language_info": {
   "codemirror_mode": {
    "name": "ipython",
    "version": 3
   },
   "file_extension": ".py",
   "mimetype": "text/x-python",
   "name": "python",
   "nbconvert_exporter": "python",
   "pygments_lexer": "ipython3",
   "version": "3.10.4"
  }
 },
 "nbformat": 4,
 "nbformat_minor": 5
}
